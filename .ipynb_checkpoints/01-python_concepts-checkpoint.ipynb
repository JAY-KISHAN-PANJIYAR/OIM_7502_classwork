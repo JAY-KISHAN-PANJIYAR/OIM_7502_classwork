{
 "cells": [
  {
   "cell_type": "markdown",
   "id": "9383bafa",
   "metadata": {},
   "source": [
    "### Python Programming Concepts"
   ]
  },
  {
   "cell_type": "markdown",
   "id": "17df7d6e",
   "metadata": {},
   "source": [
    "#### 1. Create a variable to store the value 500 for sales"
   ]
  },
  {
   "cell_type": "code",
   "execution_count": 1,
   "id": "a5f43c2f",
   "metadata": {},
   "outputs": [],
   "source": [
    "sales = 500"
   ]
  },
  {
   "cell_type": "markdown",
   "id": "6dc8b9ea",
   "metadata": {},
   "source": [
    "#### 2. Create a variable to store several values:  \n",
    "* sales: 500, 475, 625\n",
    "* integers 1 - 9 "
   ]
  },
  {
   "cell_type": "code",
   "execution_count": 15,
   "id": "902fe3bd",
   "metadata": {},
   "outputs": [],
   "source": [
    "sales = [500, 475, 625]"
   ]
  },
  {
   "cell_type": "code",
   "execution_count": 22,
   "id": "bbc89976-1dc6-4515-8b0e-0e305b948f87",
   "metadata": {},
   "outputs": [
    {
     "data": {
      "text/plain": [
       "[1, 2, 3, 4, 5, 6, 7, 8, 9]"
      ]
     },
     "execution_count": 22,
     "metadata": {},
     "output_type": "execute_result"
    }
   ],
   "source": [
    "integers = [i for i in range(1, 10)]\n",
    "integers"
   ]
  },
  {
   "cell_type": "markdown",
   "id": "62e55953",
   "metadata": {},
   "source": [
    "#### 3. Create a variable to store the names and email addresses for a number of customers\n",
    "* John, john@some.com; Ann, ann@some.com"
   ]
  },
  {
   "cell_type": "code",
   "execution_count": 27,
   "id": "03f2b161",
   "metadata": {},
   "outputs": [
    {
     "data": {
      "text/plain": [
       "'john@some.com'"
      ]
     },
     "execution_count": 27,
     "metadata": {},
     "output_type": "execute_result"
    }
   ],
   "source": [
    "customers = [\n",
    "    {\"name\": \"John\", \"email\": \"john@some.com\"},\n",
    "    {\"name\": \"Ann\", \"email\": \"ann@some.com\"}\n",
    "]\n",
    "customers[0][\"email\"]"
   ]
  },
  {
   "cell_type": "markdown",
   "id": "d6b1e8c6",
   "metadata": {},
   "source": [
    "#### 4. Use Python to generate a random value based on each of following:\n",
    "1. between 0 and 1\n",
    "2. the standard normal distribution (rounded to two decimal places)\n",
    "3. a value between 1 and 10\n",
    "4. either H or T"
   ]
  },
  {
   "cell_type": "code",
   "execution_count": 6,
   "id": "f004d7b5",
   "metadata": {},
   "outputs": [
    {
     "name": "stdout",
     "output_type": "stream",
     "text": [
      "Random value between 0 and 1: 0.4796358850010283\n"
     ]
    }
   ],
   "source": [
    "import random\n",
    "import numpy as np\n",
    "\n",
    "value_0_to_1 = random.random()\n",
    "print(f\"Random value between 0 and 1: {value_0_to_1}\")\n",
    "\n"
   ]
  },
  {
   "cell_type": "code",
   "execution_count": 7,
   "id": "a8efc6fc",
   "metadata": {},
   "outputs": [
    {
     "name": "stdout",
     "output_type": "stream",
     "text": [
      "Random standard normal value (rounded): 0.27\n"
     ]
    }
   ],
   "source": [
    "import random\n",
    "\n",
    "standard_normal_value = np.random.randn()\n",
    "rounded_normal_value = round(standard_normal_value, 2)\n",
    "print(f\"Random standard normal value (rounded): {rounded_normal_value}\")"
   ]
  },
  {
   "cell_type": "code",
   "execution_count": 9,
   "id": "f20b6134-2d52-4465-a867-e7b69e9a9d94",
   "metadata": {},
   "outputs": [
    {
     "name": "stdout",
     "output_type": "stream",
     "text": [
      "Random integer between 1 and 10: 7\n"
     ]
    }
   ],
   "source": [
    "import random\n",
    "value_1_to_10 = random.randint(1, 10)\n",
    "print(f\"Random integer between 1 and 10: {value_1_to_10}\")\n"
   ]
  },
  {
   "cell_type": "code",
   "execution_count": 10,
   "id": "3a150c3e",
   "metadata": {},
   "outputs": [
    {
     "name": "stdout",
     "output_type": "stream",
     "text": [
      "Random coin flip result: H\n"
     ]
    }
   ],
   "source": [
    "import random\n",
    "coin_flip = random.choice(['H', 'T'])\n",
    "print(f\"Random coin flip result: {coin_flip}\")"
   ]
  },
  {
   "cell_type": "code",
   "execution_count": null,
   "id": "f80f4b3b",
   "metadata": {},
   "outputs": [],
   "source": []
  },
  {
   "cell_type": "code",
   "execution_count": null,
   "id": "bdb52b86",
   "metadata": {},
   "outputs": [],
   "source": []
  },
  {
   "cell_type": "markdown",
   "id": "7eddf06a",
   "metadata": {},
   "source": [
    "#### 5. Use Python to determine your current working directory"
   ]
  },
  {
   "cell_type": "code",
   "execution_count": 11,
   "id": "d8f79474",
   "metadata": {},
   "outputs": [
    {
     "name": "stdout",
     "output_type": "stream",
     "text": [
      "The current working directory is: /Users/jaykishanpanjiyar/OIM7502_F25\n"
     ]
    }
   ],
   "source": [
    "import os\n",
    "\n",
    "current_directory = os.getcwd()\n",
    "\n",
    "print(\"The current working directory is:\", current_directory)"
   ]
  },
  {
   "cell_type": "markdown",
   "id": "fc43ec50",
   "metadata": {},
   "source": [
    "#### 6. Use Python to determine how many days until New Year's Day"
   ]
  },
  {
   "cell_type": "code",
   "execution_count": 12,
   "id": "13f630fe",
   "metadata": {},
   "outputs": [
    {
     "name": "stdout",
     "output_type": "stream",
     "text": [
      "There are 115 days until New Year's Day.\n"
     ]
    }
   ],
   "source": [
    "import datetime\n",
    "\n",
    "def days_until_new_year():\n",
    "    \"\"\"\n",
    "    Calculates and prints the number of days until New Year's Day.\n",
    "    \"\"\"\n",
    "    # Get today's date\n",
    "    today = datetime.date.today()\n",
    "\n",
    "    # Determine the next New Year's Day. If today is already in the new year,\n",
    "    # it calculates for the next year.\n",
    "    new_year_date = datetime.date(today.year + 1, 1, 1)\n",
    "\n",
    "    # Calculate the difference between the two dates\n",
    "    difference = new_year_date - today\n",
    "\n",
    "    # Print the result\n",
    "    print(f\"There are {difference.days} days until New Year's Day.\")\n",
    "\n",
    "# Call the function to run the code\n",
    "days_until_new_year()"
   ]
  },
  {
   "cell_type": "markdown",
   "id": "2ba4ea92",
   "metadata": {},
   "source": [
    "#### 7. Write a short program that displays the future value of 1,000 earning 5%  at the end of each year for the next 5 years"
   ]
  },
  {
   "cell_type": "code",
   "execution_count": 13,
   "id": "6fef4a8c",
   "metadata": {},
   "outputs": [
    {
     "name": "stdout",
     "output_type": "stream",
     "text": [
      "Future Value of $1,000 at 5% Interest:\n",
      "End of Year 1: $1050.00\n",
      "End of Year 2: $1102.50\n",
      "End of Year 3: $1157.62\n",
      "End of Year 4: $1215.51\n",
      "End of Year 5: $1276.28\n"
     ]
    }
   ],
   "source": [
    "# Define the initial investment amount and the interest rate.\n",
    "principal = 1000\n",
    "interest_rate = 0.05\n",
    "num_years = 5\n",
    "\n",
    "print(\"Future Value of $1,000 at 5% Interest:\")\n",
    "\n",
    "# Use a loop to calculate the value at the end of each year.\n",
    "for year in range(1, num_years + 1):\n",
    "    # Calculate the future value for the current year.\n",
    "    future_value = principal * (1 + interest_rate)\n",
    "\n",
    "    # Update the principal for the next year's calculation.\n",
    "    principal = future_value\n",
    "\n",
    "    # Display the result for the current year, formatted to two decimal places.\n",
    "    print(f\"End of Year {year}: ${future_value:.2f}\")"
   ]
  },
  {
   "cell_type": "markdown",
   "id": "150201c8",
   "metadata": {},
   "source": [
    "#### 8. Write a short program that prompts a user to enter a stock symbol and press enter. Add each symbol entered to a variable. The program should run until the user presses the enter key without entering anything (empty string) "
   ]
  },
  {
   "cell_type": "code",
   "execution_count": 14,
   "id": "931a346f",
   "metadata": {},
   "outputs": [
    {
     "name": "stdout",
     "output_type": "stream",
     "text": [
      "Enter a stock symbol and press Enter. Press Enter again on an empty line to finish.\n"
     ]
    },
    {
     "name": "stdin",
     "output_type": "stream",
     "text": [
      "Enter stock symbol:  appl\n",
      "Enter stock symbol:  OCTO\n"
     ]
    },
    {
     "ename": "KeyboardInterrupt",
     "evalue": "Interrupted by user",
     "output_type": "error",
     "traceback": [
      "\u001b[0;31m---------------------------------------------------------------------------\u001b[0m",
      "\u001b[0;31mKeyboardInterrupt\u001b[0m                         Traceback (most recent call last)",
      "Cell \u001b[0;32mIn[14], line 33\u001b[0m\n\u001b[1;32m     29\u001b[0m     \u001b[38;5;28;01mreturn\u001b[39;00m symbols\n\u001b[1;32m     31\u001b[0m \u001b[38;5;28;01mif\u001b[39;00m \u001b[38;5;18m__name__\u001b[39m \u001b[38;5;241m==\u001b[39m \u001b[38;5;124m\"\u001b[39m\u001b[38;5;124m__main__\u001b[39m\u001b[38;5;124m\"\u001b[39m:\n\u001b[1;32m     32\u001b[0m     \u001b[38;5;66;03m# Call the function to collect the symbols.\u001b[39;00m\n\u001b[0;32m---> 33\u001b[0m     stock_list \u001b[38;5;241m=\u001b[39m collect_stock_symbols()\n\u001b[1;32m     35\u001b[0m     \u001b[38;5;66;03m# Print the collected symbols to the console.\u001b[39;00m\n\u001b[1;32m     36\u001b[0m     \u001b[38;5;28mprint\u001b[39m(\u001b[38;5;124m\"\u001b[39m\u001b[38;5;130;01m\\n\u001b[39;00m\u001b[38;5;124m--- Stock Symbols Collected ---\u001b[39m\u001b[38;5;124m\"\u001b[39m)\n",
      "Cell \u001b[0;32mIn[14], line 20\u001b[0m, in \u001b[0;36mcollect_stock_symbols\u001b[0;34m()\u001b[0m\n\u001b[1;32m     16\u001b[0m \u001b[38;5;28mprint\u001b[39m(\u001b[38;5;124m\"\u001b[39m\u001b[38;5;124mEnter a stock symbol and press Enter. Press Enter again on an empty line to finish.\u001b[39m\u001b[38;5;124m\"\u001b[39m)\n\u001b[1;32m     18\u001b[0m \u001b[38;5;28;01mwhile\u001b[39;00m \u001b[38;5;28;01mTrue\u001b[39;00m:\n\u001b[1;32m     19\u001b[0m     \u001b[38;5;66;03m# Prompt the user for input and store it in a variable.\u001b[39;00m\n\u001b[0;32m---> 20\u001b[0m     user_input \u001b[38;5;241m=\u001b[39m \u001b[38;5;28minput\u001b[39m(\u001b[38;5;124m\"\u001b[39m\u001b[38;5;124mEnter stock symbol: \u001b[39m\u001b[38;5;124m\"\u001b[39m)\n\u001b[1;32m     22\u001b[0m     \u001b[38;5;66;03m# Check if the user entered an empty string.\u001b[39;00m\n\u001b[1;32m     23\u001b[0m     \u001b[38;5;28;01mif\u001b[39;00m \u001b[38;5;129;01mnot\u001b[39;00m user_input:\n",
      "File \u001b[0;32m/opt/anaconda3/lib/python3.13/site-packages/ipykernel/kernelbase.py:1282\u001b[0m, in \u001b[0;36mKernel.raw_input\u001b[0;34m(self, prompt)\u001b[0m\n\u001b[1;32m   1280\u001b[0m     msg \u001b[38;5;241m=\u001b[39m \u001b[38;5;124m\"\u001b[39m\u001b[38;5;124mraw_input was called, but this frontend does not support input requests.\u001b[39m\u001b[38;5;124m\"\u001b[39m\n\u001b[1;32m   1281\u001b[0m     \u001b[38;5;28;01mraise\u001b[39;00m StdinNotImplementedError(msg)\n\u001b[0;32m-> 1282\u001b[0m \u001b[38;5;28;01mreturn\u001b[39;00m \u001b[38;5;28mself\u001b[39m\u001b[38;5;241m.\u001b[39m_input_request(\n\u001b[1;32m   1283\u001b[0m     \u001b[38;5;28mstr\u001b[39m(prompt),\n\u001b[1;32m   1284\u001b[0m     \u001b[38;5;28mself\u001b[39m\u001b[38;5;241m.\u001b[39m_parent_ident[\u001b[38;5;124m\"\u001b[39m\u001b[38;5;124mshell\u001b[39m\u001b[38;5;124m\"\u001b[39m],\n\u001b[1;32m   1285\u001b[0m     \u001b[38;5;28mself\u001b[39m\u001b[38;5;241m.\u001b[39mget_parent(\u001b[38;5;124m\"\u001b[39m\u001b[38;5;124mshell\u001b[39m\u001b[38;5;124m\"\u001b[39m),\n\u001b[1;32m   1286\u001b[0m     password\u001b[38;5;241m=\u001b[39m\u001b[38;5;28;01mFalse\u001b[39;00m,\n\u001b[1;32m   1287\u001b[0m )\n",
      "File \u001b[0;32m/opt/anaconda3/lib/python3.13/site-packages/ipykernel/kernelbase.py:1325\u001b[0m, in \u001b[0;36mKernel._input_request\u001b[0;34m(self, prompt, ident, parent, password)\u001b[0m\n\u001b[1;32m   1322\u001b[0m \u001b[38;5;28;01mexcept\u001b[39;00m \u001b[38;5;167;01mKeyboardInterrupt\u001b[39;00m:\n\u001b[1;32m   1323\u001b[0m     \u001b[38;5;66;03m# re-raise KeyboardInterrupt, to truncate traceback\u001b[39;00m\n\u001b[1;32m   1324\u001b[0m     msg \u001b[38;5;241m=\u001b[39m \u001b[38;5;124m\"\u001b[39m\u001b[38;5;124mInterrupted by user\u001b[39m\u001b[38;5;124m\"\u001b[39m\n\u001b[0;32m-> 1325\u001b[0m     \u001b[38;5;28;01mraise\u001b[39;00m \u001b[38;5;167;01mKeyboardInterrupt\u001b[39;00m(msg) \u001b[38;5;28;01mfrom\u001b[39;00m\u001b[38;5;250m \u001b[39m\u001b[38;5;28;01mNone\u001b[39;00m\n\u001b[1;32m   1326\u001b[0m \u001b[38;5;28;01mexcept\u001b[39;00m \u001b[38;5;167;01mException\u001b[39;00m:\n\u001b[1;32m   1327\u001b[0m     \u001b[38;5;28mself\u001b[39m\u001b[38;5;241m.\u001b[39mlog\u001b[38;5;241m.\u001b[39mwarning(\u001b[38;5;124m\"\u001b[39m\u001b[38;5;124mInvalid Message:\u001b[39m\u001b[38;5;124m\"\u001b[39m, exc_info\u001b[38;5;241m=\u001b[39m\u001b[38;5;28;01mTrue\u001b[39;00m)\n",
      "\u001b[0;31mKeyboardInterrupt\u001b[0m: Interrupted by user"
     ]
    }
   ],
   "source": [
    "\"\"\"\n",
    "Stock Symbol Collector\n",
    "\n",
    "This program prompts the user to enter stock symbols and stores them in a list.\n",
    "The program continues to run until the user presses Enter without typing a symbol.\n",
    "\"\"\"\n",
    "\n",
    "def collect_stock_symbols():\n",
    "    \"\"\"\n",
    "    Collects stock symbols from user input.\n",
    "\n",
    "    Returns:\n",
    "        list: A list of the stock symbols entered by the user.\n",
    "    \"\"\"\n",
    "    symbols = []\n",
    "    print(\"Enter a stock symbol and press Enter. Press Enter again on an empty line to finish.\")\n",
    "\n",
    "    while True:\n",
    "        # Prompt the user for input and store it in a variable.\n",
    "        user_input = input(\"Enter stock symbol: \")\n",
    "\n",
    "        # Check if the user entered an empty string.\n",
    "        if not user_input:\n",
    "            break  # Exit the loop if the input is empty.\n",
    "\n",
    "        # Add the non-empty input to the list of symbols.\n",
    "        symbols.append(user_input)\n",
    "\n",
    "    return symbols\n",
    "\n",
    "if __name__ == \"__main__\":\n",
    "    # Call the function to collect the symbols.\n",
    "    stock_list = collect_stock_symbols()\n",
    "\n",
    "    # Print the collected symbols to the console.\n",
    "    print(\"\\n--- Stock Symbols Collected ---\")\n",
    "    if stock_list:\n",
    "        for symbol in stock_list:\n",
    "            print(symbol)\n",
    "    else:\n",
    "        print(\"No stock symbols were entered.\")\n"
   ]
  },
  {
   "cell_type": "markdown",
   "id": "fc2a7592",
   "metadata": {},
   "source": [
    "#### 9. Write the code necessary to calculate the sum of the square differences of a group of values : \n",
    "58, 32, 37, 41, 36, 36, 54, 37, 25, 53\n",
    "##### $\\Sigma $(${x}$ - $\\bar{x}$)$^2$"
   ]
  },
  {
   "cell_type": "code",
   "execution_count": null,
   "id": "13d9a6c5",
   "metadata": {},
   "outputs": [],
   "source": [
    "\"\"\"\n",
    "Calculates the sum of the square differences for a given dataset.\n",
    "\n",
    "The sum of square differences is a fundamental statistical calculation,\n",
    "represented by the formula $\\Sigma(x - \\bar{x})^2$, where:\n",
    "- $\\Sigma$ is the summation symbol.\n",
    "- $x$ represents each value in the dataset.\n",
    "- $\\bar{x}$ (x-bar) is the mean (average) of the dataset.\n",
    "\n",
    "This program calculates this value for the specific dataset provided in the problem.\n",
    "\"\"\"\n",
    "\n",
    "# The group of values from the problem.\n",
    "values = [58, 32, 37, 41, 36, 36, 54, 37, 25, 53]\n",
    "\n",
    "# Step 1: Calculate the mean of the values.\n",
    "# The mean is the sum of all values divided by the number of values.\n",
    "number_of_values = len(values)\n",
    "sum_of_values = sum(values)\n",
    "mean = sum_of_values / number_of_values\n",
    "\n",
    "print(f\"The values are: {values}\")\n",
    "print(f\"Number of values: {number_of_values}\")\n",
    "print(f\"Sum of values: {sum_of_values}\")\n",
    "print(f\"The mean ($\\bar{{x}}$) is: {mean:.2f}\\n\")\n",
    "\n",
    "# Step 2: Calculate the squared difference for each value from the mean.\n",
    "# We create a new list to store these calculated differences.\n",
    "squared_differences = []\n",
    "for value in values:\n",
    "    # Calculate the difference between the value and the mean.\n",
    "    difference = value - mean\n",
    "    # Square the difference.\n",
    "    squared_difference = difference ** 2\n",
    "    # Add the result to our list.\n",
    "    squared_differences.append(squared_difference)\n",
    "\n",
    "print(\"Individual squared differences:\")\n",
    "for i in range(len(values)):\n",
    "    print(f\"Value {values[i]}: ({values[i]} - {mean:.2f})^2 = {squared_differences[i]:.2f}\")\n",
    "\n",
    "# Step 3: Sum all the squared differences to get the final result.\n",
    "sum_of_squared_differences = sum(squared_differences)\n",
    "\n",
    "print(f\"\\nThe sum of the squared differences ($\\Sigma(x - \\bar{{x}})^2$) is: {sum_of_squared_differences:.2f}\")\n"
   ]
  },
  {
   "cell_type": "markdown",
   "id": "6d6f2e64",
   "metadata": {},
   "source": [
    "#### 10. Opening, reading and writing files"
   ]
  },
  {
   "cell_type": "code",
   "execution_count": null,
   "id": "f7fa569d",
   "metadata": {},
   "outputs": [],
   "source": []
  },
  {
   "cell_type": "markdown",
   "id": "eec548d6",
   "metadata": {},
   "source": [
    "#### 11. Create a function the will simulate rolling two die and return the value of each and and the sum "
   ]
  },
  {
   "cell_type": "code",
   "execution_count": null,
   "id": "bb115cdc",
   "metadata": {},
   "outputs": [],
   "source": []
  },
  {
   "cell_type": "markdown",
   "id": "21556d7f",
   "metadata": {},
   "source": [
    "#### 12. Write the code needed to evaluate whether a value in a group of values is negative or postive and prints an approriate message, i.e. postive, negative \n",
    "-1.59, 2.36, 1.69, 1.13, -0.91, 1.48, -0.34, 1.31, -0.74, 0.2"
   ]
  },
  {
   "cell_type": "code",
   "execution_count": null,
   "id": "d6c38ecb",
   "metadata": {},
   "outputs": [],
   "source": []
  },
  {
   "cell_type": "code",
   "execution_count": null,
   "id": "aaefba17",
   "metadata": {},
   "outputs": [],
   "source": []
  },
  {
   "cell_type": "markdown",
   "id": "8cafe65c",
   "metadata": {},
   "source": [
    "#### 14.  Complete the following:\n",
    "1. Write a program that generates 500 random integers from 1 to n, for example, the first integer will be 1 the second will be 1 or 2, the fifth between 1 and 5, and so on.\n",
    "2. The program should write each integer to a file \n",
    "3. Once all integers are written close the file\n",
    "\n",
    "##### Part 2\n",
    "1. Open and read the file into a list\n",
    "2. Create a line plot of the data"
   ]
  },
  {
   "cell_type": "code",
   "execution_count": 22,
   "id": "60a910bb",
   "metadata": {},
   "outputs": [],
   "source": []
  },
  {
   "cell_type": "code",
   "execution_count": 24,
   "id": "d6b4180c",
   "metadata": {},
   "outputs": [],
   "source": []
  },
  {
   "cell_type": "code",
   "execution_count": null,
   "id": "adb6aa11",
   "metadata": {},
   "outputs": [],
   "source": []
  },
  {
   "cell_type": "code",
   "execution_count": null,
   "id": "6745da79",
   "metadata": {},
   "outputs": [],
   "source": []
  },
  {
   "cell_type": "code",
   "execution_count": null,
   "id": "21140445",
   "metadata": {},
   "outputs": [],
   "source": []
  },
  {
   "cell_type": "code",
   "execution_count": null,
   "id": "3d546600",
   "metadata": {},
   "outputs": [],
   "source": []
  }
 ],
 "metadata": {
  "kernelspec": {
   "display_name": "Python [conda env:base] *",
   "language": "python",
   "name": "conda-base-py"
  },
  "language_info": {
   "codemirror_mode": {
    "name": "ipython",
    "version": 3
   },
   "file_extension": ".py",
   "mimetype": "text/x-python",
   "name": "python",
   "nbconvert_exporter": "python",
   "pygments_lexer": "ipython3",
   "version": "3.13.5"
  }
 },
 "nbformat": 4,
 "nbformat_minor": 5
}
