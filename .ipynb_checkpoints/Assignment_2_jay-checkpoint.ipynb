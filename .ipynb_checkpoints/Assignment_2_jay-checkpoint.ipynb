{
 "cells": [
  {
   "cell_type": "code",
   "execution_count": 51,
   "id": "39c4bddc-d2e2-4a60-bfbc-99c84100165e",
   "metadata": {},
   "outputs": [],
   "source": [
    "## 1. Load the dataset"
   ]
  },
  {
   "cell_type": "code",
   "execution_count": 52,
   "id": "97dbdaf0-9fb4-4565-8308-3fd2c2dec3e9",
   "metadata": {},
   "outputs": [],
   "source": [
    "import pandas as pd\n",
    "import matplotlib.pyplot as plt"
   ]
  },
  {
   "cell_type": "code",
   "execution_count": 53,
   "id": "84cd22fb-8f9c-430d-b2e3-8f7cd851d620",
   "metadata": {},
   "outputs": [],
   "source": [
    "df = pd.read_csv(\"/Users/jaykishanpanjiyar/OIM_7502_classwork/data/Wage.csv\")"
   ]
  },
  {
   "cell_type": "code",
   "execution_count": 54,
   "id": "569d91da-8932-4eef-891a-e93c142f03bd",
   "metadata": {},
   "outputs": [
    {
     "name": "stdout",
     "output_type": "stream",
     "text": [
      "--- 2. First 10 Rows ---\n",
      "   year  age            maritl      race        education              region  \\\n",
      "0  2006   18  1. Never Married  1. White     1. < HS Grad  2. Middle Atlantic   \n",
      "1  2004   24  1. Never Married  1. White  4. College Grad  2. Middle Atlantic   \n",
      "2  2003   45        2. Married  1. White  3. Some College  2. Middle Atlantic   \n",
      "3  2003   43        2. Married  3. Asian  4. College Grad  2. Middle Atlantic   \n",
      "4  2005   50       4. Divorced  1. White       2. HS Grad  2. Middle Atlantic   \n",
      "5  2008   54        2. Married  1. White  4. College Grad  2. Middle Atlantic   \n",
      "6  2009   44        2. Married  4. Other  3. Some College  2. Middle Atlantic   \n",
      "7  2008   30  1. Never Married  3. Asian  3. Some College  2. Middle Atlantic   \n",
      "8  2006   41  1. Never Married  2. Black  3. Some College  2. Middle Atlantic   \n",
      "9  2004   52        2. Married  1. White       2. HS Grad  2. Middle Atlantic   \n",
      "\n",
      "         jobclass          health health_ins   logwage        wage  \n",
      "0   1. Industrial       1. <=Good      2. No  4.318063   75.043154  \n",
      "1  2. Information  2. >=Very Good      2. No  4.255273   70.476020  \n",
      "2   1. Industrial       1. <=Good     1. Yes  4.875061  130.982177  \n",
      "3  2. Information  2. >=Very Good     1. Yes  5.041393  154.685293  \n",
      "4  2. Information       1. <=Good     1. Yes  4.318063   75.043154  \n",
      "5  2. Information  2. >=Very Good     1. Yes  4.845098  127.115744  \n",
      "6   1. Industrial  2. >=Very Good     1. Yes  5.133021  169.528538  \n",
      "7  2. Information       1. <=Good     1. Yes  4.716003  111.720849  \n",
      "8  2. Information  2. >=Very Good     1. Yes  4.778151  118.884359  \n",
      "9  2. Information  2. >=Very Good     1. Yes  4.857332  128.680488  \n",
      "--------------------\n"
     ]
    }
   ],
   "source": [
    "# 2. Display the first 10 rows of the DataFrame.\n",
    "print(\"--- 2. First 10 Rows ---\")\n",
    "print(df.head(10))\n",
    "print(\"-\" * 20)"
   ]
  },
  {
   "cell_type": "code",
   "execution_count": 55,
   "id": "b3b67b78-8fad-481b-b60b-455341bb53e0",
   "metadata": {},
   "outputs": [
    {
     "name": "stdout",
     "output_type": "stream",
     "text": [
      "\n",
      "--- 3. Last 10 Rows ---\n",
      "      year  age            maritl      race        education  \\\n",
      "2990  2009   50        2. Married  2. Black       2. HS Grad   \n",
      "2991  2003   26  1. Never Married  2. Black  3. Some College   \n",
      "2992  2007   35        2. Married  1. White     1. < HS Grad   \n",
      "2993  2006   31        2. Married  1. White       2. HS Grad   \n",
      "2994  2009   31        2. Married  1. White  4. College Grad   \n",
      "2995  2008   44        2. Married  1. White  3. Some College   \n",
      "2996  2007   30        2. Married  1. White       2. HS Grad   \n",
      "2997  2005   27        2. Married  2. Black     1. < HS Grad   \n",
      "2998  2005   27  1. Never Married  1. White  3. Some College   \n",
      "2999  2009   55      5. Separated  1. White       2. HS Grad   \n",
      "\n",
      "                  region        jobclass          health health_ins   logwage  \\\n",
      "2990  2. Middle Atlantic   1. Industrial  2. >=Very Good      2. No  4.886491   \n",
      "2991  2. Middle Atlantic   1. Industrial  2. >=Very Good      2. No  4.778151   \n",
      "2992  2. Middle Atlantic   1. Industrial       1. <=Good      2. No  4.698970   \n",
      "2993  2. Middle Atlantic  2. Information  2. >=Very Good     1. Yes  4.633468   \n",
      "2994  2. Middle Atlantic  2. Information  2. >=Very Good     1. Yes  4.893207   \n",
      "2995  2. Middle Atlantic   1. Industrial  2. >=Very Good     1. Yes  5.041393   \n",
      "2996  2. Middle Atlantic   1. Industrial  2. >=Very Good      2. No  4.602060   \n",
      "2997  2. Middle Atlantic   1. Industrial       1. <=Good      2. No  4.193125   \n",
      "2998  2. Middle Atlantic   1. Industrial  2. >=Very Good     1. Yes  4.477121   \n",
      "2999  2. Middle Atlantic   1. Industrial       1. <=Good     1. Yes  4.505150   \n",
      "\n",
      "            wage  \n",
      "2990  132.487821  \n",
      "2991  118.884359  \n",
      "2992  109.833986  \n",
      "2993  102.870247  \n",
      "2994  133.380608  \n",
      "2995  154.685293  \n",
      "2996   99.689464  \n",
      "2997   66.229408  \n",
      "2998   87.981033  \n",
      "2999   90.481913  \n",
      "--------------------\n"
     ]
    }
   ],
   "source": [
    "# 3. Display the last 10 rows of the DataFrame.\n",
    "print(\"\\n--- 3. Last 10 Rows ---\")\n",
    "print(df.tail(10))\n",
    "print(\"-\" * 20)"
   ]
  },
  {
   "cell_type": "code",
   "execution_count": 56,
   "id": "c322ced2-2ae2-4aea-be73-6cf0a1b8ac46",
   "metadata": {},
   "outputs": [
    {
     "name": "stdout",
     "output_type": "stream",
     "text": [
      "\n",
      "--- 4. Number of Rows ---\n",
      "The DataFrame has 3000 rows.\n",
      "--------------------\n"
     ]
    }
   ],
   "source": [
    "# 4. Count and display the number of rows in the DataFrame.\n",
    "print(\"\\n--- 4. Number of Rows ---\")\n",
    "print(f\"The DataFrame has {len(df)} rows.\")\n",
    "print(\"-\" * 20)"
   ]
  },
  {
   "cell_type": "code",
   "execution_count": 57,
   "id": "206cae69-37e8-4eec-9c8c-54e09c7ee881",
   "metadata": {},
   "outputs": [
    {
     "name": "stdout",
     "output_type": "stream",
     "text": [
      "\n",
      "--- 5. DataFrame Metadata ---\n",
      "<class 'pandas.core.frame.DataFrame'>\n",
      "RangeIndex: 3000 entries, 0 to 2999\n",
      "Data columns (total 11 columns):\n",
      " #   Column      Non-Null Count  Dtype  \n",
      "---  ------      --------------  -----  \n",
      " 0   year        3000 non-null   int64  \n",
      " 1   age         3000 non-null   int64  \n",
      " 2   maritl      3000 non-null   object \n",
      " 3   race        3000 non-null   object \n",
      " 4   education   3000 non-null   object \n",
      " 5   region      3000 non-null   object \n",
      " 6   jobclass    3000 non-null   object \n",
      " 7   health      3000 non-null   object \n",
      " 8   health_ins  3000 non-null   object \n",
      " 9   logwage     3000 non-null   float64\n",
      " 10  wage        3000 non-null   float64\n",
      "dtypes: float64(2), int64(2), object(7)\n",
      "memory usage: 257.9+ KB\n",
      "--------------------\n"
     ]
    }
   ],
   "source": [
    "# 5. Display metadata for the DataFrame, including data types and non-null counts.\n",
    "print(\"\\n--- 5. DataFrame Metadata ---\")\n",
    "df.info()\n",
    "print(\"-\" * 20)"
   ]
  },
  {
   "cell_type": "code",
   "execution_count": 58,
   "id": "7b58d987-66d5-4101-a90d-efaaa9b46079",
   "metadata": {},
   "outputs": [
    {
     "name": "stdout",
     "output_type": "stream",
     "text": [
      "\n",
      "--- 6. Data Types for 'wage' and 'age' ---\n",
      "wage    float64\n",
      "age       int64\n",
      "dtype: object\n",
      "--------------------\n"
     ]
    }
   ],
   "source": [
    "# 6. Display the data types for two specific columns, 'wage' and 'age'.\n",
    "print(\"\\n--- 6. Data Types for 'wage' and 'age' ---\")\n",
    "print(df[['wage', 'age']].dtypes)\n",
    "print(\"-\" * 20)"
   ]
  },
  {
   "cell_type": "code",
   "execution_count": 59,
   "id": "0d2ed0a8-ef8b-4338-ad43-1532f4cc9600",
   "metadata": {},
   "outputs": [
    {
     "name": "stdout",
     "output_type": "stream",
     "text": [
      "\n",
      "--- 7. Column Names ---\n",
      "['year', 'age', 'maritl', 'race', 'education', 'region', 'jobclass', 'health', 'health_ins', 'logwage', 'wage']\n",
      "--------------------\n"
     ]
    }
   ],
   "source": [
    "\n",
    "# 7. Display all column names from the dataset.\n",
    "print(\"\\n--- 7. Column Names ---\")\n",
    "print(df.columns.tolist())\n",
    "print(\"-\" * 20)"
   ]
  },
  {
   "cell_type": "code",
   "execution_count": 60,
   "id": "7021dd63-7267-4830-bf78-21cd0359a95d",
   "metadata": {},
   "outputs": [
    {
     "name": "stdout",
     "output_type": "stream",
     "text": [
      "\n",
      "--- 8. DataFrame Index ---\n",
      "RangeIndex(start=0, stop=3000, step=1)\n",
      "--------------------\n"
     ]
    }
   ],
   "source": [
    "# 8. Display the DataFrame's index.\n",
    "print(\"\\n--- 8. DataFrame Index ---\")\n",
    "print(df.index)\n",
    "print(\"-\" * 20)"
   ]
  },
  {
   "cell_type": "code",
   "execution_count": 61,
   "id": "cacb1f62-b37b-482e-ad60-35f5dadd8968",
   "metadata": {},
   "outputs": [
    {
     "name": "stdout",
     "output_type": "stream",
     "text": [
      "\n",
      "--- 9. Number of Individual Elements ---\n",
      "The DataFrame contains a total of 33000 individual elements.\n",
      "--------------------\n"
     ]
    }
   ],
   "source": [
    "\n",
    "# 9. Calculate and display the total number of individual elements in the DataFrame.\n",
    "print(\"\\n--- 9. Number of Individual Elements ---\")\n",
    "print(f\"The DataFrame contains a total of {df.size} individual elements.\")\n",
    "print(\"-\" * 20)"
   ]
  },
  {
   "cell_type": "code",
   "execution_count": 62,
   "id": "54d5120c-9c85-4b3c-ae26-76bbcb3cadf6",
   "metadata": {},
   "outputs": [
    {
     "name": "stdout",
     "output_type": "stream",
     "text": [
      "\n",
      "--- 10. DataFrame Shape (Rows, Columns) ---\n",
      "(3000, 11)\n",
      "--------------------\n"
     ]
    }
   ],
   "source": [
    "# 10. Display the number of columns and rows.\n",
    "print(\"\\n--- 10. DataFrame Shape (Rows, Columns) ---\")\n",
    "print(df.shape)\n",
    "print(\"-\" * 20)"
   ]
  },
  {
   "cell_type": "code",
   "execution_count": 63,
   "id": "9244ed3e-971c-493c-9b5a-008d0469a769",
   "metadata": {},
   "outputs": [
    {
     "name": "stdout",
     "output_type": "stream",
     "text": [
      "\n",
      "--- 11. Descriptive Statistics for 'wage' and 'age' ---\n",
      "              wage          age\n",
      "count  3000.000000  3000.000000\n",
      "mean    111.703608    42.414667\n",
      "std      41.728595    11.542406\n",
      "min      20.085537    18.000000\n",
      "25%      85.383940    33.750000\n",
      "50%     104.921507    42.000000\n",
      "75%     128.680488    51.000000\n",
      "max     318.342430    80.000000\n",
      "--------------------\n"
     ]
    }
   ],
   "source": [
    "# 11. Display descriptive statistics for the 'wage' and 'age' columns.\n",
    "print(\"\\n--- 11. Descriptive Statistics for 'wage' and 'age' ---\")\n",
    "print(df[['wage', 'age']].describe())\n",
    "print(\"-\" * 20)\n"
   ]
  },
  {
   "cell_type": "code",
   "execution_count": 64,
   "id": "cef2b0da-30bd-4e0f-b648-f33336c7e66c",
   "metadata": {},
   "outputs": [
    {
     "name": "stdout",
     "output_type": "stream",
     "text": [
      "\n",
      "--- 12. Descriptive Statistics by 'race' ---\n",
      "            wage                                                           \\\n",
      "           count        mean        std        min        25%         50%   \n",
      "race                                                                        \n",
      "1. White  2480.0  112.563666  41.733830  20.085537  86.695155  106.348256   \n",
      "2. Black   293.0  101.601177  37.162486  23.274704  81.283253   94.072715   \n",
      "3. Asian   190.0  120.288288  46.422514  34.607418  87.981033  115.375039   \n",
      "4. Other    37.0   89.973326  29.153530  38.223583  71.319639   81.283253   \n",
      "\n",
      "                                     age                                     \\\n",
      "                 75%         max   count       mean        std   min    25%   \n",
      "race                                                                          \n",
      "1. White  130.042934  314.329336  2480.0  42.394758  11.365655  18.0  34.00   \n",
      "2. Black  117.146817  318.342430   293.0  43.563140  13.012913  18.0  33.00   \n",
      "3. Asian  144.828129  299.262977   190.0  41.821053  11.218823  22.0  32.25   \n",
      "4. Other  104.921507  169.528538    37.0  37.702703  11.553895  21.0  28.00   \n",
      "\n",
      "                            \n",
      "           50%   75%   max  \n",
      "race                        \n",
      "1. White  42.0  51.0  80.0  \n",
      "2. Black  44.0  52.0  75.0  \n",
      "3. Asian  40.0  50.0  76.0  \n",
      "4. Other  39.0  47.0  65.0  \n",
      "--------------------\n"
     ]
    }
   ],
   "source": [
    "\n",
    "# 12. Display descriptive statistics for 'wage' and 'age', grouped by 'race'.\n",
    "print(\"\\n--- 12. Descriptive Statistics by 'race' ---\")\n",
    "print(df.groupby('race')[['wage', 'age']].describe())\n",
    "print(\"-\" * 20)\n"
   ]
  },
  {
   "cell_type": "code",
   "execution_count": 65,
   "id": "d531fb23-c2cb-4cf8-b8b9-a70e78a202eb",
   "metadata": {},
   "outputs": [
    {
     "name": "stdout",
     "output_type": "stream",
     "text": [
      "\n",
      "--- 13. Analysis of Wage Mean vs. Median ---\n",
      "Mean Wage: 111.70\n",
      "Median Wage: 104.92\n",
      "Comment: The mean wage is higher than the median, suggesting a right-skewed distribution with some high-wage outliers.\n",
      "--------------------\n"
     ]
    }
   ],
   "source": [
    "# 13. Briefly comment on the mean and median values of the 'wage' column.\n",
    "# A brief comment: The mean wage is higher than the median wage, which suggests the data is\n",
    "# positively skewed. This means a few high-wage outliers are pulling the average\n",
    "# up, so the median is a better representation of the typical wage.\n",
    "print(\"\\n--- 13. Analysis of Wage Mean vs. Median ---\")\n",
    "print(f\"Mean Wage: {df['wage'].mean():.2f}\")\n",
    "print(f\"Median Wage: {df['wage'].median():.2f}\")\n",
    "print(\"Comment: The mean wage is higher than the median, suggesting a right-skewed distribution with some high-wage outliers.\")\n",
    "print(\"-\" * 20)"
   ]
  },
  {
   "cell_type": "code",
   "execution_count": 66,
   "id": "1107eda5-25a0-4d8f-9dd0-afb6ad27fbcf",
   "metadata": {},
   "outputs": [
    {
     "name": "stdout",
     "output_type": "stream",
     "text": [
      "\n",
      "--- 14. 'age' and 'wage' columns (first 5 rows) ---\n",
      "   age        wage\n",
      "0   18   75.043154\n",
      "1   24   70.476020\n",
      "2   45  130.982177\n",
      "3   43  154.685293\n",
      "4   50   75.043154\n",
      "--------------------\n"
     ]
    }
   ],
   "source": [
    "\n",
    "# 14. Display only the 'age' and 'wage' columns.\n",
    "print(\"\\n--- 14. 'age' and 'wage' columns (first 5 rows) ---\")\n",
    "print(df[['age', 'wage']].head())\n",
    "print(\"-\" * 20)\n"
   ]
  },
  {
   "cell_type": "code",
   "execution_count": 67,
   "id": "4230418b-b47c-4f93-99c3-de214b655f68",
   "metadata": {},
   "outputs": [
    {
     "name": "stdout",
     "output_type": "stream",
     "text": [
      "\n",
      "--- 15. Correlation between 'age' and 'wage' ---\n",
      "The correlation coefficient is: 0.1956\n",
      "Comment: There is a weak positive correlation, meaning as age increases, wage tends to slightly increase, but the relationship is not strong.\n",
      "--------------------\n"
     ]
    }
   ],
   "source": [
    "\n",
    "# 15. Check and display the correlation between 'age' and 'wage'.\n",
    "print(\"\\n--- 15. Correlation between 'age' and 'wage' ---\")\n",
    "correlation = df[['age', 'wage']].corr().iloc[0, 1]\n",
    "print(f\"The correlation coefficient is: {correlation:.4f}\")\n",
    "# A brief comment: The correlation coefficient of approximately 0.1956 is a positive value, but it is small,\n",
    "# which indicates a weak positive linear relationship between age and wage.\n",
    "print(\"Comment: There is a weak positive correlation, meaning as age increases, wage tends to slightly increase, but the relationship is not strong.\")\n",
    "print(\"-\" * 20)\n"
   ]
  },
  {
   "cell_type": "code",
   "execution_count": 68,
   "id": "5253b062-e680-48a1-9b31-71ed0864ff2c",
   "metadata": {},
   "outputs": [
    {
     "name": "stdout",
     "output_type": "stream",
     "text": [
      "\n",
      "--- 16. Top 10 Salaries ---\n",
      "      year  age            maritl      race           education  \\\n",
      "206   2007   63        2. Married  2. Black  5. Advanced Degree   \n",
      "1229  2007   46        2. Married  2. Black          2. HS Grad   \n",
      "503   2003   38  1. Never Married  1. White     3. Some College   \n",
      "1293  2009   38        2. Married  2. Black          2. HS Grad   \n",
      "2712  2006   58        2. Married  2. Black     3. Some College   \n",
      "1112  2006   34  1. Never Married  2. Black  5. Advanced Degree   \n",
      "2893  2003   40        2. Married  3. Asian  5. Advanced Degree   \n",
      "2925  2005   39        2. Married  1. White          2. HS Grad   \n",
      "489   2007   41        2. Married  1. White  5. Advanced Degree   \n",
      "347   2007   43        2. Married  1. White  5. Advanced Degree   \n",
      "\n",
      "                  region        jobclass          health health_ins   logwage  \\\n",
      "206   2. Middle Atlantic  2. Information  2. >=Very Good     1. Yes  5.763128   \n",
      "1229  2. Middle Atlantic  2. Information  2. >=Very Good     1. Yes  5.763128   \n",
      "503   2. Middle Atlantic  2. Information  2. >=Very Good     1. Yes  5.750441   \n",
      "1293  2. Middle Atlantic  2. Information       1. <=Good     1. Yes  5.742793   \n",
      "2712  2. Middle Atlantic  2. Information       1. <=Good      2. No  5.735190   \n",
      "1112  2. Middle Atlantic  2. Information  2. >=Very Good     1. Yes  5.735190   \n",
      "2893  2. Middle Atlantic  2. Information  2. >=Very Good     1. Yes  5.701323   \n",
      "2925  2. Middle Atlantic   1. Industrial  2. >=Very Good      2. No  5.690330   \n",
      "489   2. Middle Atlantic  2. Information  2. >=Very Good     1. Yes  5.650820   \n",
      "347   2. Middle Atlantic  2. Information  2. >=Very Good     1. Yes  5.641006   \n",
      "\n",
      "            wage  \n",
      "206   318.342430  \n",
      "1229  318.342430  \n",
      "503   314.329336  \n",
      "1293  311.934569  \n",
      "2712  309.571771  \n",
      "1112  309.571771  \n",
      "2893  299.262977  \n",
      "2925  295.991250  \n",
      "489   284.524741  \n",
      "347   281.745971  \n",
      "--------------------\n"
     ]
    }
   ],
   "source": [
    "\n",
    "# 16. Display the top 10 salaries.\n",
    "print(\"\\n--- 16. Top 10 Salaries ---\")\n",
    "print(df.sort_values(by='wage', ascending=False).head(10))\n",
    "print(\"-\" * 20)\n"
   ]
  },
  {
   "cell_type": "code",
   "execution_count": 69,
   "id": "e0375ed1-5cda-4a82-8b83-3099a0e4fb5c",
   "metadata": {},
   "outputs": [
    {
     "name": "stdout",
     "output_type": "stream",
     "text": [
      "\n",
      "--- 17. Counts of Each Race ---\n",
      "race\n",
      "1. White    2480\n",
      "2. Black     293\n",
      "3. Asian     190\n",
      "4. Other      37\n",
      "Name: count, dtype: int64\n",
      "--------------------\n"
     ]
    }
   ],
   "source": [
    "\n",
    "# 17. Display the counts for each race in the dataset.\n",
    "print(\"\\n--- 17. Counts of Each Race ---\")\n",
    "print(df['race'].value_counts())\n",
    "print(\"-\" * 20)\n"
   ]
  },
  {
   "cell_type": "code",
   "execution_count": 70,
   "id": "b7013d6f-71ce-4c57-aa90-5ea94cca5a65",
   "metadata": {},
   "outputs": [
    {
     "name": "stdout",
     "output_type": "stream",
     "text": [
      "\n",
      "--- 18. Proportion of Each Race ---\n",
      "race\n",
      "1. White    0.826667\n",
      "2. Black    0.097667\n",
      "3. Asian    0.063333\n",
      "4. Other    0.012333\n",
      "Name: proportion, dtype: float64\n",
      "--------------------\n"
     ]
    }
   ],
   "source": [
    "\n",
    "# 18. Display the proportion of each race in the dataset.\n",
    "print(\"\\n--- 18. Proportion of Each Race ---\")\n",
    "print(df['race'].value_counts(normalize=True))\n",
    "print(\"-\" * 20)\n"
   ]
  },
  {
   "cell_type": "code",
   "execution_count": 71,
   "id": "a8268502-af2c-4ee6-a846-9d3076491187",
   "metadata": {},
   "outputs": [
    {
     "name": "stdout",
     "output_type": "stream",
     "text": [
      "\n",
      "--- 19. Job Class Proportionality Bar Plot ---\n"
     ]
    },
    {
     "data": {
      "image/png": "[encoded data removed]",
      "text/plain": [
       "<Figure size 1000x600 with 1 Axes>"
      ]
     },
     "metadata": {},
     "output_type": "display_data"
    },
    {
     "name": "stdout",
     "output_type": "stream",
     "text": [
      "Bar plot of job class proportionality created.\n"
     ]
    }
   ],
   "source": [
    "\n",
    "# 19. Create a bar plot of job class proportionality.\n",
    "# A brief comment: This code calculates the proportion of each job class and creates a bar plot to visualize it.\n",
    "print(\"\\n--- 19. Job Class Proportionality Bar Plot ---\")\n",
    "jobclass_proportions = df['jobclass'].value_counts(normalize=True)\n",
    "plt.figure(figsize=(10, 6))\n",
    "jobclass_proportions.plot(kind='bar', color=['skyblue', 'salmon'])\n",
    "plt.title('Proportionality of Job Class')\n",
    "plt.xlabel('Job Class')\n",
    "plt.ylabel('Proportion')\n",
    "plt.xticks(rotation=0)\n",
    "plt.grid(axis='y', linestyle='--', alpha=0.7)\n",
    "plt.tight_layout()\n",
    "plt.show()\n",
    "\n",
    "print(\"Bar plot of job class proportionality created.\")"
   ]
  },
  {
   "cell_type": "code",
   "execution_count": null,
   "id": "871c7824-aa6d-4852-b112-db8b5ae2b5a6",
   "metadata": {},
   "outputs": [],
   "source": []
  }
 ],
 "metadata": {
  "kernelspec": {
   "display_name": "Python [conda env:base] *",
   "language": "python",
   "name": "conda-base-py"
  },
  "language_info": {
   "codemirror_mode": {
    "name": "ipython",
    "version": 3
   },
   "file_extension": ".py",
   "mimetype": "text/x-python",
   "name": "python",
   "nbconvert_exporter": "python",
   "pygments_lexer": "ipython3",
   "version": "3.13.5"
  }
 },
 "nbformat": 4,
 "nbformat_minor": 5
}
